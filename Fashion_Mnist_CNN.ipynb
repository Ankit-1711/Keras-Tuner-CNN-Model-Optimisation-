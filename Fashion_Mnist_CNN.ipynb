{
 "cells": [
  {
   "cell_type": "code",
   "execution_count": 1,
   "metadata": {
    "colab": {
     "base_uri": "https://localhost:8080/"
    },
    "id": "BA5FgZMSd_RN",
    "outputId": "8c546287-494a-4b74-86d9-b70328af3789"
   },
   "outputs": [
    {
     "name": "stdout",
     "output_type": "stream",
     "text": [
      "Looking in indexes: https://pypi.org/simple, https://us-python.pkg.dev/colab-wheels/public/simple/\n",
      "Collecting keras-tuner\n",
      "  Downloading keras_tuner-1.1.3-py3-none-any.whl (135 kB)\n",
      "\u001b[2K     \u001b[90m━━━━━━━━━━━━━━━━━━━━━━━━━━━━━━━━━━━━━━━\u001b[0m \u001b[32m135.7/135.7 KB\u001b[0m \u001b[31m2.7 MB/s\u001b[0m eta \u001b[36m0:00:00\u001b[0m\n",
      "\u001b[?25hRequirement already satisfied: numpy in /usr/local/lib/python3.8/dist-packages (from keras-tuner) (1.21.6)\n",
      "Requirement already satisfied: ipython in /usr/local/lib/python3.8/dist-packages (from keras-tuner) (7.9.0)\n",
      "Collecting kt-legacy\n",
      "  Downloading kt_legacy-1.0.4-py3-none-any.whl (9.6 kB)\n",
      "Requirement already satisfied: packaging in /usr/local/lib/python3.8/dist-packages (from keras-tuner) (21.3)\n",
      "Requirement already satisfied: tensorboard in /usr/local/lib/python3.8/dist-packages (from keras-tuner) (2.9.1)\n",
      "Requirement already satisfied: requests in /usr/local/lib/python3.8/dist-packages (from keras-tuner) (2.25.1)\n",
      "Collecting jedi>=0.10\n",
      "  Downloading jedi-0.18.2-py2.py3-none-any.whl (1.6 MB)\n",
      "\u001b[2K     \u001b[90m━━━━━━━━━━━━━━━━━━━━━━━━━━━━━━━━━━━━━━━━\u001b[0m \u001b[32m1.6/1.6 MB\u001b[0m \u001b[31m55.8 MB/s\u001b[0m eta \u001b[36m0:00:00\u001b[0m\n",
      "\u001b[?25hRequirement already satisfied: pygments in /usr/local/lib/python3.8/dist-packages (from ipython->keras-tuner) (2.6.1)\n",
      "Requirement already satisfied: pexpect in /usr/local/lib/python3.8/dist-packages (from ipython->keras-tuner) (4.8.0)\n",
      "Requirement already satisfied: traitlets>=4.2 in /usr/local/lib/python3.8/dist-packages (from ipython->keras-tuner) (5.7.1)\n",
      "Requirement already satisfied: setuptools>=18.5 in /usr/local/lib/python3.8/dist-packages (from ipython->keras-tuner) (57.4.0)\n",
      "Requirement already satisfied: backcall in /usr/local/lib/python3.8/dist-packages (from ipython->keras-tuner) (0.2.0)\n",
      "Requirement already satisfied: prompt-toolkit<2.1.0,>=2.0.0 in /usr/local/lib/python3.8/dist-packages (from ipython->keras-tuner) (2.0.10)\n",
      "Requirement already satisfied: decorator in /usr/local/lib/python3.8/dist-packages (from ipython->keras-tuner) (4.4.2)\n",
      "Requirement already satisfied: pickleshare in /usr/local/lib/python3.8/dist-packages (from ipython->keras-tuner) (0.7.5)\n",
      "Requirement already satisfied: pyparsing!=3.0.5,>=2.0.2 in /usr/local/lib/python3.8/dist-packages (from packaging->keras-tuner) (3.0.9)\n",
      "Requirement already satisfied: urllib3<1.27,>=1.21.1 in /usr/local/lib/python3.8/dist-packages (from requests->keras-tuner) (1.24.3)\n",
      "Requirement already satisfied: idna<3,>=2.5 in /usr/local/lib/python3.8/dist-packages (from requests->keras-tuner) (2.10)\n",
      "Requirement already satisfied: certifi>=2017.4.17 in /usr/local/lib/python3.8/dist-packages (from requests->keras-tuner) (2022.12.7)\n",
      "Requirement already satisfied: chardet<5,>=3.0.2 in /usr/local/lib/python3.8/dist-packages (from requests->keras-tuner) (4.0.0)\n",
      "Requirement already satisfied: grpcio>=1.24.3 in /usr/local/lib/python3.8/dist-packages (from tensorboard->keras-tuner) (1.51.1)\n",
      "Requirement already satisfied: markdown>=2.6.8 in /usr/local/lib/python3.8/dist-packages (from tensorboard->keras-tuner) (3.4.1)\n",
      "Requirement already satisfied: wheel>=0.26 in /usr/local/lib/python3.8/dist-packages (from tensorboard->keras-tuner) (0.38.4)\n",
      "Requirement already satisfied: absl-py>=0.4 in /usr/local/lib/python3.8/dist-packages (from tensorboard->keras-tuner) (1.3.0)\n",
      "Requirement already satisfied: tensorboard-plugin-wit>=1.6.0 in /usr/local/lib/python3.8/dist-packages (from tensorboard->keras-tuner) (1.8.1)\n",
      "Requirement already satisfied: google-auth-oauthlib<0.5,>=0.4.1 in /usr/local/lib/python3.8/dist-packages (from tensorboard->keras-tuner) (0.4.6)\n",
      "Requirement already satisfied: werkzeug>=1.0.1 in /usr/local/lib/python3.8/dist-packages (from tensorboard->keras-tuner) (1.0.1)\n",
      "Requirement already satisfied: tensorboard-data-server<0.7.0,>=0.6.0 in /usr/local/lib/python3.8/dist-packages (from tensorboard->keras-tuner) (0.6.1)\n",
      "Requirement already satisfied: google-auth<3,>=1.6.3 in /usr/local/lib/python3.8/dist-packages (from tensorboard->keras-tuner) (2.16.0)\n",
      "Requirement already satisfied: protobuf<3.20,>=3.9.2 in /usr/local/lib/python3.8/dist-packages (from tensorboard->keras-tuner) (3.19.6)\n",
      "Requirement already satisfied: pyasn1-modules>=0.2.1 in /usr/local/lib/python3.8/dist-packages (from google-auth<3,>=1.6.3->tensorboard->keras-tuner) (0.2.8)\n",
      "Requirement already satisfied: rsa<5,>=3.1.4 in /usr/local/lib/python3.8/dist-packages (from google-auth<3,>=1.6.3->tensorboard->keras-tuner) (4.9)\n",
      "Requirement already satisfied: cachetools<6.0,>=2.0.0 in /usr/local/lib/python3.8/dist-packages (from google-auth<3,>=1.6.3->tensorboard->keras-tuner) (5.2.1)\n",
      "Requirement already satisfied: six>=1.9.0 in /usr/local/lib/python3.8/dist-packages (from google-auth<3,>=1.6.3->tensorboard->keras-tuner) (1.15.0)\n",
      "Requirement already satisfied: requests-oauthlib>=0.7.0 in /usr/local/lib/python3.8/dist-packages (from google-auth-oauthlib<0.5,>=0.4.1->tensorboard->keras-tuner) (1.3.1)\n",
      "Requirement already satisfied: parso<0.9.0,>=0.8.0 in /usr/local/lib/python3.8/dist-packages (from jedi>=0.10->ipython->keras-tuner) (0.8.3)\n",
      "Requirement already satisfied: importlib-metadata>=4.4 in /usr/local/lib/python3.8/dist-packages (from markdown>=2.6.8->tensorboard->keras-tuner) (6.0.0)\n",
      "Requirement already satisfied: wcwidth in /usr/local/lib/python3.8/dist-packages (from prompt-toolkit<2.1.0,>=2.0.0->ipython->keras-tuner) (0.2.5)\n",
      "Requirement already satisfied: ptyprocess>=0.5 in /usr/local/lib/python3.8/dist-packages (from pexpect->ipython->keras-tuner) (0.7.0)\n",
      "Requirement already satisfied: zipp>=0.5 in /usr/local/lib/python3.8/dist-packages (from importlib-metadata>=4.4->markdown>=2.6.8->tensorboard->keras-tuner) (3.11.0)\n",
      "Requirement already satisfied: pyasn1<0.5.0,>=0.4.6 in /usr/local/lib/python3.8/dist-packages (from pyasn1-modules>=0.2.1->google-auth<3,>=1.6.3->tensorboard->keras-tuner) (0.4.8)\n",
      "Requirement already satisfied: oauthlib>=3.0.0 in /usr/local/lib/python3.8/dist-packages (from requests-oauthlib>=0.7.0->google-auth-oauthlib<0.5,>=0.4.1->tensorboard->keras-tuner) (3.2.2)\n",
      "Installing collected packages: kt-legacy, jedi, keras-tuner\n",
      "Successfully installed jedi-0.18.2 keras-tuner-1.1.3 kt-legacy-1.0.4\n"
     ]
    }
   ],
   "source": [
    "!pip install keras-tuner"
   ]
  },
  {
   "cell_type": "code",
   "execution_count": 2,
   "metadata": {
    "id": "Wln2KJJ6edye"
   },
   "outputs": [],
   "source": [
    "import tensorflow as tf\n",
    "from tensorflow import keras\n",
    "import numpy as np\n",
    "import pandas as pd\n",
    "import seaborn as sns\n",
    "import matplotlib.pyplot as plt\n",
    "\n"
   ]
  },
  {
   "cell_type": "code",
   "execution_count": 3,
   "metadata": {
    "id": "-QasR0IBfAlZ"
   },
   "outputs": [],
   "source": [
    "fashion_mnist=keras.datasets.fashion_mnist"
   ]
  },
  {
   "cell_type": "code",
   "execution_count": 4,
   "metadata": {
    "colab": {
     "base_uri": "https://localhost:8080/"
    },
    "id": "AcXtjozjg4Na",
    "outputId": "2e3bcf4b-91b6-4c56-9a00-14f051a2213d"
   },
   "outputs": [
    {
     "name": "stdout",
     "output_type": "stream",
     "text": [
      "Downloading data from https://storage.googleapis.com/tensorflow/tf-keras-datasets/train-labels-idx1-ubyte.gz\n",
      "29515/29515 [==============================] - 0s 0us/step\n",
      "Downloading data from https://storage.googleapis.com/tensorflow/tf-keras-datasets/train-images-idx3-ubyte.gz\n",
      "26421880/26421880 [==============================] - 2s 0us/step\n",
      "Downloading data from https://storage.googleapis.com/tensorflow/tf-keras-datasets/t10k-labels-idx1-ubyte.gz\n",
      "5148/5148 [==============================] - 0s 0us/step\n",
      "Downloading data from https://storage.googleapis.com/tensorflow/tf-keras-datasets/t10k-images-idx3-ubyte.gz\n",
      "4422102/4422102 [==============================] - 0s 0us/step\n"
     ]
    }
   ],
   "source": [
    "(train_image,train_label),(test_image,test_label)=fashion_mnist.load_data()"
   ]
  },
  {
   "cell_type": "code",
   "execution_count": 5,
   "metadata": {
    "id": "M3eLY0IshPUu"
   },
   "outputs": [],
   "source": [
    "train_image=train_image/255\n",
    "test_image=test_image/255\n"
   ]
  },
  {
   "cell_type": "code",
   "execution_count": 6,
   "metadata": {
    "colab": {
     "base_uri": "https://localhost:8080/"
    },
    "id": "Hkkm6p1tip9b",
    "outputId": "bff7ab9e-ffa0-471c-f81b-483ed3eebb65"
   },
   "outputs": [
    {
     "data": {
      "text/plain": [
       "(28, 28)"
      ]
     },
     "execution_count": 6,
     "metadata": {},
     "output_type": "execute_result"
    }
   ],
   "source": [
    "train_image[0].shape"
   ]
  },
  {
   "cell_type": "code",
   "execution_count": 7,
   "metadata": {
    "id": "yGzpXjD0isI3"
   },
   "outputs": [],
   "source": [
    "train_image=train_image.reshape(len(train_image),28,28,1)\n",
    "test_image=test_image.reshape(len(test_image),28,28,1)"
   ]
  },
  {
   "cell_type": "code",
   "execution_count": 8,
   "metadata": {
    "id": "_X2ClsGxisBG"
   },
   "outputs": [],
   "source": [
    "def build_model(hp):\n",
    "  model=keras.Sequential([\n",
    "      keras.layers.Conv2D(hp.Int('conv_1_filter',min_value=32,max_value=128,step=16),\n",
    "                          hp.Choice('conv_1_kernel',values=[3,5]),\n",
    "                          activation='relu',\n",
    "                          input_shape=(28,28,1)\n",
    "      ),\n",
    "      keras.layers.Conv2D(hp.Int('conv_2_filter',min_value=32,max_value=64,step=16),\n",
    "                          hp.Choice('conv_2_kernel',values=[3,5]),\n",
    "                          activation='relu'\n",
    "      \n",
    "      ),\n",
    "      keras.layers.Flatten(),\n",
    "      keras.layers.Dense(\n",
    "          units=hp.Int('dense_1_units',min_value=32,max_value=128,step=16 ),\n",
    "          activation='relu'\n",
    "      ),\n",
    "      keras.layers.Dense(10,activation='softmax')])\n",
    "  model.compile(optimizer=keras.optimizers.Adam(hp.Choice('learning_rate',values=[1e-2,1e-3])),\n",
    "                loss='sparse_categorical_crossentropy',\n",
    "                metrics=['accuracy'])\n",
    "  return model\n",
    "\n",
    "  \n"
   ]
  },
  {
   "cell_type": "code",
   "execution_count": 9,
   "metadata": {
    "colab": {
     "base_uri": "https://localhost:8080/"
    },
    "id": "tWoYwJSRir2-",
    "outputId": "a62de616-0b09-4858-de8a-c7f9685858dc"
   },
   "outputs": [
    {
     "name": "stderr",
     "output_type": "stream",
     "text": [
      "<ipython-input-9-2bbfbe7dae29>:1: DeprecationWarning: `import kerastuner` is deprecated, please use `import keras_tuner`.\n",
      "  from kerastuner import RandomSearch\n"
     ]
    }
   ],
   "source": [
    "from kerastuner import RandomSearch\n",
    "from kerastuner.engine.hyperparameters import HyperParameters\n"
   ]
  },
  {
   "cell_type": "code",
   "execution_count": 10,
   "metadata": {
    "id": "3UWXxLBgq9yI"
   },
   "outputs": [],
   "source": [
    "tuner_search=RandomSearch(build_model,objective='val_accuracy',max_trials=10,directory='output',project_name='fashion_mnist')"
   ]
  },
  {
   "cell_type": "code",
   "execution_count": 11,
   "metadata": {
    "colab": {
     "base_uri": "https://localhost:8080/"
    },
    "id": "kQuYQwvvq9vd",
    "outputId": "059ff7c8-8990-4757-8eef-7651e0cea00f"
   },
   "outputs": [
    {
     "name": "stdout",
     "output_type": "stream",
     "text": [
      "Trial 10 Complete [00h 00m 36s]\n",
      "val_accuracy: 0.9169999957084656\n",
      "\n",
      "Best val_accuracy So Far: 0.9169999957084656\n",
      "Total elapsed time: 00h 08m 30s\n"
     ]
    }
   ],
   "source": [
    "tuner_search.search(train_image,train_label,epochs=5,validation_split=0.1)"
   ]
  },
  {
   "cell_type": "code",
   "execution_count": 12,
   "metadata": {
    "id": "7fhxLGHEq9py"
   },
   "outputs": [],
   "source": [
    "model=tuner_search.get_best_models(num_models=1)[0]"
   ]
  },
  {
   "cell_type": "code",
   "execution_count": 13,
   "metadata": {
    "colab": {
     "base_uri": "https://localhost:8080/"
    },
    "id": "cq5X9mMhq9m6",
    "outputId": "8549f69a-15f0-4730-e555-5e17092531a9"
   },
   "outputs": [
    {
     "name": "stdout",
     "output_type": "stream",
     "text": [
      "Model: \"sequential\"\n",
      "_________________________________________________________________\n",
      " Layer (type)                Output Shape              Param #   \n",
      "=================================================================\n",
      " conv2d (Conv2D)             (None, 26, 26, 48)        480       \n",
      "                                                                 \n",
      " conv2d_1 (Conv2D)           (None, 22, 22, 32)        38432     \n",
      "                                                                 \n",
      " flatten (Flatten)           (None, 15488)             0         \n",
      "                                                                 \n",
      " dense (Dense)               (None, 112)               1734768   \n",
      "                                                                 \n",
      " dense_1 (Dense)             (None, 10)                1130      \n",
      "                                                                 \n",
      "=================================================================\n",
      "Total params: 1,774,810\n",
      "Trainable params: 1,774,810\n",
      "Non-trainable params: 0\n",
      "_________________________________________________________________\n"
     ]
    }
   ],
   "source": [
    "model.summary()"
   ]
  },
  {
   "cell_type": "code",
   "execution_count": 14,
   "metadata": {
    "colab": {
     "base_uri": "https://localhost:8080/"
    },
    "id": "rkFGC3YPq9j2",
    "outputId": "b07909ea-e5a7-4bc2-e71b-08c2037e4fb3"
   },
   "outputs": [
    {
     "name": "stdout",
     "output_type": "stream",
     "text": [
      "Epoch 6/30\n",
      "1500/1500 [==============================] - 7s 4ms/step - loss: 0.0922 - accuracy: 0.9656 - val_loss: 0.2044 - val_accuracy: 0.9396\n",
      "Epoch 7/30\n",
      "1500/1500 [==============================] - 6s 4ms/step - loss: 0.0613 - accuracy: 0.9782 - val_loss: 0.2309 - val_accuracy: 0.9383\n",
      "Epoch 8/30\n",
      "1500/1500 [==============================] - 6s 4ms/step - loss: 0.0463 - accuracy: 0.9833 - val_loss: 0.2587 - val_accuracy: 0.9358\n",
      "Epoch 9/30\n",
      "1500/1500 [==============================] - 6s 4ms/step - loss: 0.0336 - accuracy: 0.9881 - val_loss: 0.2834 - val_accuracy: 0.9298\n",
      "Epoch 10/30\n",
      "1500/1500 [==============================] - 6s 4ms/step - loss: 0.0270 - accuracy: 0.9904 - val_loss: 0.3350 - val_accuracy: 0.9315\n",
      "Epoch 11/30\n",
      "1500/1500 [==============================] - 6s 4ms/step - loss: 0.0229 - accuracy: 0.9919 - val_loss: 0.3869 - val_accuracy: 0.9293\n",
      "Epoch 12/30\n",
      "1500/1500 [==============================] - 5s 4ms/step - loss: 0.0214 - accuracy: 0.9924 - val_loss: 0.3860 - val_accuracy: 0.9281\n",
      "Epoch 13/30\n",
      "1500/1500 [==============================] - 6s 4ms/step - loss: 0.0170 - accuracy: 0.9944 - val_loss: 0.3708 - val_accuracy: 0.9287\n",
      "Epoch 14/30\n",
      "1500/1500 [==============================] - 6s 4ms/step - loss: 0.0188 - accuracy: 0.9935 - val_loss: 0.4067 - val_accuracy: 0.9283\n",
      "Epoch 15/30\n",
      "1500/1500 [==============================] - 6s 4ms/step - loss: 0.0158 - accuracy: 0.9944 - val_loss: 0.4525 - val_accuracy: 0.9257\n",
      "Epoch 16/30\n",
      "1500/1500 [==============================] - 6s 4ms/step - loss: 0.0142 - accuracy: 0.9955 - val_loss: 0.4720 - val_accuracy: 0.9277\n",
      "Epoch 17/30\n",
      "1500/1500 [==============================] - 6s 4ms/step - loss: 0.0124 - accuracy: 0.9958 - val_loss: 0.5073 - val_accuracy: 0.9256\n",
      "Epoch 18/30\n",
      "1500/1500 [==============================] - 6s 4ms/step - loss: 0.0099 - accuracy: 0.9969 - val_loss: 0.5565 - val_accuracy: 0.9247\n",
      "Epoch 19/30\n",
      "1500/1500 [==============================] - 6s 4ms/step - loss: 0.0134 - accuracy: 0.9954 - val_loss: 0.5102 - val_accuracy: 0.9292\n",
      "Epoch 20/30\n",
      "1500/1500 [==============================] - 6s 4ms/step - loss: 0.0125 - accuracy: 0.9956 - val_loss: 0.5496 - val_accuracy: 0.9240\n",
      "Epoch 21/30\n",
      "1500/1500 [==============================] - 6s 4ms/step - loss: 0.0123 - accuracy: 0.9959 - val_loss: 0.6169 - val_accuracy: 0.9208\n",
      "Epoch 22/30\n",
      "1500/1500 [==============================] - 5s 4ms/step - loss: 0.0107 - accuracy: 0.9967 - val_loss: 0.5890 - val_accuracy: 0.9233\n",
      "Epoch 23/30\n",
      "1500/1500 [==============================] - 6s 4ms/step - loss: 0.0099 - accuracy: 0.9968 - val_loss: 0.6318 - val_accuracy: 0.9218\n",
      "Epoch 24/30\n",
      "1500/1500 [==============================] - 6s 4ms/step - loss: 0.0087 - accuracy: 0.9973 - val_loss: 0.6835 - val_accuracy: 0.9199\n",
      "Epoch 25/30\n",
      "1500/1500 [==============================] - 6s 4ms/step - loss: 0.0108 - accuracy: 0.9967 - val_loss: 0.6237 - val_accuracy: 0.9244\n",
      "Epoch 26/30\n",
      "1500/1500 [==============================] - 6s 4ms/step - loss: 0.0102 - accuracy: 0.9966 - val_loss: 0.6283 - val_accuracy: 0.9251\n",
      "Epoch 27/30\n",
      "1500/1500 [==============================] - 6s 4ms/step - loss: 0.0078 - accuracy: 0.9973 - val_loss: 0.7277 - val_accuracy: 0.9230\n",
      "Epoch 28/30\n",
      "1500/1500 [==============================] - 6s 4ms/step - loss: 0.0071 - accuracy: 0.9975 - val_loss: 0.7415 - val_accuracy: 0.9203\n",
      "Epoch 29/30\n",
      "1500/1500 [==============================] - 6s 4ms/step - loss: 0.0119 - accuracy: 0.9964 - val_loss: 0.8303 - val_accuracy: 0.9185\n",
      "Epoch 30/30\n",
      "1500/1500 [==============================] - 6s 4ms/step - loss: 0.0071 - accuracy: 0.9978 - val_loss: 0.7348 - val_accuracy: 0.9172\n"
     ]
    },
    {
     "data": {
      "text/plain": [
       "<keras.callbacks.History at 0x7f4a800240a0>"
      ]
     },
     "execution_count": 14,
     "metadata": {},
     "output_type": "execute_result"
    }
   ],
   "source": [
    "model.fit(train_image,train_label,epochs=30,validation_split=0.2,initial_epoch=5)"
   ]
  },
  {
   "cell_type": "code",
   "execution_count": 15,
   "metadata": {
    "colab": {
     "base_uri": "https://localhost:8080/"
    },
    "id": "tqsuuB4Rq9g6",
    "outputId": "38537ac4-8d9f-4833-b04e-2746e2dd3f4d"
   },
   "outputs": [
    {
     "name": "stdout",
     "output_type": "stream",
     "text": [
      "313/313 [==============================] - 1s 2ms/step\n"
     ]
    }
   ],
   "source": [
    "test_pred=model.predict(test_image)"
   ]
  },
  {
   "cell_type": "code",
   "execution_count": 16,
   "metadata": {
    "id": "Pj5Iw1Fbq9dZ"
   },
   "outputs": [],
   "source": [
    "test_label_pred=np.argmax(test_pred,axis=1)"
   ]
  },
  {
   "cell_type": "code",
   "execution_count": 20,
   "metadata": {
    "colab": {
     "base_uri": "https://localhost:8080/"
    },
    "id": "jFvQwlhJq9Z_",
    "outputId": "1f4dd7d5-c8a4-48ce-eafd-c4f9346e2ac5"
   },
   "outputs": [
    {
     "data": {
      "text/plain": [
       "array([[796,   4,  14,  18,   1,   1, 162,   0,   4,   0],\n",
       "       [  1, 987,   0,   7,   1,   0,   2,   0,   2,   0],\n",
       "       [ 17,   3, 852,  12,  48,   0,  65,   0,   3,   0],\n",
       "       [ 10,  19,  13, 897,  11,   0,  49,   0,   0,   1],\n",
       "       [  1,   3,  58,  23, 837,   0,  77,   0,   1,   0],\n",
       "       [  0,   0,   0,   0,   0, 981,   0,  11,   0,   8],\n",
       "       [ 78,   5,  52,  21,  62,   0, 776,   0,   6,   0],\n",
       "       [  0,   0,   0,   0,   0,   7,   0, 965,   1,  27],\n",
       "       [ 10,   5,   4,   3,   3,   3,   8,   4, 960,   0],\n",
       "       [  0,   0,   1,   0,   0,   2,   0,  31,   0, 966]])"
      ]
     },
     "execution_count": 20,
     "metadata": {},
     "output_type": "execute_result"
    }
   ],
   "source": [
    "from sklearn.metrics import confusion_matrix,accuracy_score,f1_score,precision_score,recall_score\n",
    "cm=confusion_matrix(test_label,test_label_pred)\n",
    "cm\n"
   ]
  },
  {
   "cell_type": "code",
   "execution_count": 21,
   "metadata": {
    "colab": {
     "base_uri": "https://localhost:8080/"
    },
    "id": "NvXIs4WEz9cQ",
    "outputId": "a32d7d59-edc2-4fe7-9d03-597c11a0ad98"
   },
   "outputs": [
    {
     "data": {
      "text/plain": [
       "0.9017"
      ]
     },
     "execution_count": 21,
     "metadata": {},
     "output_type": "execute_result"
    }
   ],
   "source": [
    "accuracy=accuracy_score(test_label,test_label_pred)\n",
    "accuracy"
   ]
  },
  {
   "cell_type": "code",
   "execution_count": 23,
   "metadata": {
    "colab": {
     "base_uri": "https://localhost:8080/"
    },
    "id": "Pa60MeZA0Ts2",
    "outputId": "f42551e2-d3d7-45b3-f745-c70863085481"
   },
   "outputs": [
    {
     "data": {
      "text/plain": [
       "0.9024927165424684"
      ]
     },
     "execution_count": 23,
     "metadata": {},
     "output_type": "execute_result"
    }
   ],
   "source": [
    "f1score=f1_score(test_label,test_label_pred,average='weighted')\n",
    "f1score"
   ]
  },
  {
   "cell_type": "code",
   "execution_count": null,
   "metadata": {
    "id": "4Slrgt2i4M11"
   },
   "outputs": [],
   "source": []
  }
 ],
 "metadata": {
  "accelerator": "GPU",
  "colab": {
   "provenance": []
  },
  "gpuClass": "standard",
  "kernelspec": {
   "display_name": "Python 3 (ipykernel)",
   "language": "python",
   "name": "python3"
  },
  "language_info": {
   "codemirror_mode": {
    "name": "ipython",
    "version": 3
   },
   "file_extension": ".py",
   "mimetype": "text/x-python",
   "name": "python",
   "nbconvert_exporter": "python",
   "pygments_lexer": "ipython3",
   "version": "3.9.12"
  }
 },
 "nbformat": 4,
 "nbformat_minor": 1
}
